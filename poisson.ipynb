{
 "cells": [
  {
   "cell_type": "code",
   "execution_count": null,
   "metadata": {},
   "outputs": [],
   "source": [
    "%load_ext autoreload\n",
    "%autoreload 2\n",
    "\n",
    "import numpy as np\n",
    "import matplotlib.pyplot as plt\n",
    "\n",
    "import model_of_experiment as moe"
   ]
  },
  {
   "cell_type": "code",
   "execution_count": null,
   "metadata": {},
   "outputs": [],
   "source": [
    "size = 100\n",
    "dim = 3\n",
    "intensity = 1e2\n",
    "shape = tuple(size for _ in range(dim))\n",
    "image = np.zeros(shape)\n",
    "lam = intensity * np.ones(shape)\n",
    "s = np.random.poisson(lam)\n",
    "count, bins, ignored = plt.hist(s.flatten(), 30, density=True)\n",
    "print(f'count { count }, bins { bins }, ignored { ignored }')"
   ]
  },
  {
   "cell_type": "code",
   "execution_count": null,
   "metadata": {},
   "outputs": [],
   "source": [
    "def preview_volume(volume, axis):\n",
    "    dim = len(volume.shape)\n",
    "    if 2 > dim > 3:\n",
    "        raise ValueError('volume should be 2D or 3D')\n",
    "    image = volume[:, :, 0] if dim == 3 else volume\n",
    "    axis.imshow(image, cmap='gray')\n",
    "\n",
    "\n",
    "def preview_volumes(volume0, volume1, title):\n",
    "    fig, axes = plt.subplots(1, 2, figsize=(20, 10))\n",
    "    fig.suptitle(title)\n",
    "    preview_volume(volume0, axes[0])\n",
    "    preview_volume(volume1, axes[1])\n",
    "\n",
    "\n",
    "def show_phantoms_stats(phantom, processed_phantom, title):\n",
    "    p_ph = np.ravel(processed_phantom)    \n",
    "    plt.figure(figsize=(20, 10))\n",
    "    plt.title(title)\n",
    "    p_range = [p_ph.min(), p_ph.max()]\n",
    "    count, bins, ignored = plt.hist(p_ph, 255, p_range, color='lightgray')\n",
    "    print(f'count { count }, bins { bins }, ignored { ignored }')"
   ]
  },
  {
   "cell_type": "code",
   "execution_count": null,
   "metadata": {},
   "outputs": [],
   "source": [
    "num_of_angles = 90\n",
    "noise_method = 'poisson'\n",
    "title = f'poisson noise on white image'\n",
    "\n",
    "processed_phantom, phantom = moe.process_image(image, num_of_angles, intensity, noise_method)\n",
    "\n",
    "preview_volumes(phantom, processed_phantom, title)\n",
    "show_phantoms_stats(phantom, processed_phantom, title)"
   ]
  },
  {
   "cell_type": "code",
   "execution_count": null,
   "metadata": {},
   "outputs": [],
   "source": []
  }
 ],
 "metadata": {
  "kernelspec": {
   "display_name": "Python 3",
   "language": "python",
   "name": "python3"
  },
  "language_info": {
   "codemirror_mode": {
    "name": "ipython",
    "version": 3
   },
   "file_extension": ".py",
   "mimetype": "text/x-python",
   "name": "python",
   "nbconvert_exporter": "python",
   "pygments_lexer": "ipython3",
   "version": "3.7.3"
  }
 },
 "nbformat": 4,
 "nbformat_minor": 4
}
