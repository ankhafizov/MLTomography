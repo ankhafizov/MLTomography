{
 "cells": [
  {
   "cell_type": "code",
   "execution_count": null,
   "metadata": {},
   "outputs": [],
   "source": [
    "%load_ext autoreload\n",
    "%autoreload 2\n",
    "\n",
    "import numpy as np\n",
    "import generator"
   ]
  },
  {
   "cell_type": "code",
   "execution_count": null,
   "metadata": {},
   "outputs": [],
   "source": [
    "shape = (100, 100, 100)\n",
    "porosity = np.array([0.5])\n",
    "blobiness = np.array([1, 2, 5])\n",
    "noise_method = 'poisson'\n",
    "noise = np.array([1e2, 1e3, 1e5])\n",
    "num_of_angles = 180\n",
    "tag = 'train'\n",
    "\n",
    "\n",
    "def generate_phantoms(preview=True):\n",
    "\n",
    "    for p in porosity:\n",
    "        for b in blobiness:\n",
    "            for n in noise:\n",
    "                generator.create_phantom_and_process(shape, p, b, n, num_of_angles, tag, preview=preview, noise_method=noise_method)\n",
    "\n",
    "                \n",
    "generate_phantoms()"
   ]
  },
  {
   "cell_type": "code",
   "execution_count": null,
   "metadata": {},
   "outputs": [],
   "source": [
    "import data_manager as dm\n",
    "data_info = dm.show_data_info()\n",
    "data_info"
   ]
  },
  {
   "cell_type": "code",
   "execution_count": null,
   "metadata": {},
   "outputs": [],
   "source": [
    "import pixel_counter as pc\n",
    "import matplotlib.pyplot as plt\n",
    "\n",
    "tag = 'train'\n",
    "dim = 3\n",
    "\n",
    "im_lenght = np.prod(shape)\n",
    "coeff = 100\n",
    "sample_lenght = (im_lenght/coeff).astype(np.int)\n",
    "indices = (np.random.rand(sample_lenght) * im_lenght).astype(np.int)\n",
    "\n",
    "\n",
    "def scatter_plot(x, y, colors, title):\n",
    "    plt.figure(figsize=(10, 10))\n",
    "    plt.xlim(0, 1)\n",
    "    plt.ylim(0, 1)\n",
    "    plt.scatter(x, y, marker='.', c=colors)\n",
    "    plt.title(title)\n",
    "\n",
    "    \n",
    "def get_params_from_data_info(data_info, index):\n",
    "\n",
    "    porosity = data_info['porosity'][index[0]]\n",
    "    blobiness = data_info['blobiness'][index[0]]\n",
    "    noise = data_info['noise'][index[0]]\n",
    "\n",
    "    return porosity, blobiness, noise\n",
    "\n",
    "    \n",
    "def count_npa_vs_pp():\n",
    "\n",
    "    for index, data_id in np.ndenumerate(data_info['id_indx']):\n",
    "        \n",
    "        porosity, blobiness, noise = get_params_from_data_info(data_info, index)\n",
    "        title = f'porosity { porosity }, blobiness { blobiness }, noise { noise }'\n",
    "        \n",
    "        pp, npa, op = pc.count_neighbor_average_array_and_save(dim, data_id, tag)\n",
    "\n",
    "        # pp — proc_phantom\n",
    "        # npa — neighbor_pixel_average\n",
    "        # op — orig_phantom\n",
    "\n",
    "        pp_part = np.take(pp, indices)\n",
    "        npa_part = np.take(npa, indices)\n",
    "        op_part = np.take(op, indices)\n",
    "        colors = ['red' if el else 'blue' for el in op_part]\n",
    "        scatter_plot(pp_part, npa_part, colors, title)\n",
    "        \n",
    "        \n",
    "count_npa_vs_pp()"
   ]
  },
  {
   "cell_type": "code",
   "execution_count": null,
   "metadata": {},
   "outputs": [],
   "source": [
    "tag = 'test'\n",
    "generate_phantoms(preview=False)"
   ]
  },
  {
   "cell_type": "code",
   "execution_count": null,
   "metadata": {},
   "outputs": [],
   "source": [
    "data_info = dm.show_data_info()\n",
    "data_info"
   ]
  },
  {
   "cell_type": "code",
   "execution_count": null,
   "metadata": {},
   "outputs": [],
   "source": [
    "from sklearn import preprocessing\n",
    "\n",
    "dim = 3\n",
    "tag = 'train'\n",
    "\n",
    "\n",
    "def train_model():\n",
    "\n",
    "    for index, data_id in np.ndenumerate(data_info['id_indx']):\n",
    "        \n",
    "        porosity, blobiness, noise = get_params_from_data_info(data_info, index)\n",
    "        title = f'porosity { porosity }, blobiness { blobiness }, noise { noise }'\n",
    "        \n",
    "        pixels_df = dm.get_data(dimension=dim, id_indx=data_id, what_to_return='csv', tag=tag)\n",
    "        X_train = np.asarray(pixels_df[['neighbor_average', 'proc_phantom_pixel_values']])\n",
    "        Y_train = np.asarray(pixels_df['pixel_real_value'])\n",
    "        scaler = preprocessing.StandardScaler()\n",
    "        scaler.fit(X_train)\n",
    "        scaler.transform(X_train)\n",
    "        \n",
    "        print(title)\n",
    "        print(f'mean: { scaler.mean_ }, var: { scaler.var_ }, samples_seen: { scaler.n_samples_seen_ }')\n",
    "        \n",
    "\n",
    "# train_model()"
   ]
  },
  {
   "cell_type": "code",
   "execution_count": null,
   "metadata": {},
   "outputs": [],
   "source": []
  }
 ],
 "metadata": {
  "kernelspec": {
   "display_name": "Python 3",
   "language": "python",
   "name": "python3"
  },
  "language_info": {
   "codemirror_mode": {
    "name": "ipython",
    "version": 3
   },
   "file_extension": ".py",
   "mimetype": "text/x-python",
   "name": "python",
   "nbconvert_exporter": "python",
   "pygments_lexer": "ipython3",
   "version": "3.7.3"
  }
 },
 "nbformat": 4,
 "nbformat_minor": 4
}
