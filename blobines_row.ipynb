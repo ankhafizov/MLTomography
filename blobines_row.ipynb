{
 "metadata": {
  "language_info": {
   "codemirror_mode": {
    "name": "ipython",
    "version": 3
   },
   "file_extension": ".py",
   "mimetype": "text/x-python",
   "name": "python",
   "nbconvert_exporter": "python",
   "pygments_lexer": "ipython3",
   "version": "3.7.4-final"
  },
  "orig_nbformat": 2,
  "kernelspec": {
   "name": "python3",
   "display_name": "Python 3",
   "language": "python"
  }
 },
 "nbformat": 4,
 "nbformat_minor": 2,
 "cells": [
  {
   "cell_type": "code",
   "execution_count": null,
   "metadata": {},
   "outputs": [],
   "source": [
    "import porespy.generators as generator\n",
    "import matplotlib.pyplot as plt\n",
    "import numpy as np"
   ]
  },
  {
   "cell_type": "code",
   "execution_count": null,
   "metadata": {},
   "outputs": [],
   "source": [
    "import seaborn as sns\n",
    "from scipy.stats import mode\n",
    "import pandas as pd"
   ]
  },
  {
   "cell_type": "code",
   "execution_count": null,
   "metadata": {},
   "outputs": [],
   "source": [
    "sns.set_theme()"
   ]
  },
  {
   "source": [
    "# functions for statistics"
   ],
   "cell_type": "markdown",
   "metadata": {}
  },
  {
   "cell_type": "code",
   "execution_count": null,
   "metadata": {},
   "outputs": [],
   "source": [
    "\n",
    "def split_arr_to_zeros_and_ones_sizes(arr):\n",
    "    edge_indeces = np.argwhere(~(np.diff(arr) == 0)).flatten() +1\n",
    "    segments = np.split(arr, edge_indeces)\n",
    "\n",
    "    segments_zeros = []\n",
    "    segments_ones = []\n",
    "\n",
    "    for segment in segments:\n",
    "        if np.any(segment):\n",
    "            segments_ones.append(len(segment))\n",
    "        else:\n",
    "            segments_zeros.append(len(segment))\n",
    "\n",
    "    return segments_zeros, segments_ones\n"
   ]
  },
  {
   "cell_type": "code",
   "execution_count": null,
   "metadata": {},
   "outputs": [],
   "source": [
    "def get_stats(phantom, row_numbers, axis=0):\n",
    "    stat_ones, stat_zeros = [], []\n",
    "\n",
    "    if axis == 0:\n",
    "        for row_num in row_numbers:\n",
    "            segments_zeros, segments_ones = split_arr_to_zeros_and_ones_sizes(phantom[row_num])\n",
    "            stat_zeros.append(segments_zeros)\n",
    "            stat_ones.append(segments_ones)\n",
    "    elif axis == 1:\n",
    "        for row_num in row_numbers:\n",
    "            segments_zeros, segments_ones = split_arr_to_zeros_and_ones_sizes(phantom[:, row_num])\n",
    "            stat_zeros.append(segments_zeros)\n",
    "            stat_ones.append(segments_ones)\n",
    "    elif axis == \"Both\":\n",
    "        for row_num in row_numbers:\n",
    "            segments_zeros, segments_ones = split_arr_to_zeros_and_ones_sizes(phantom[row_num])\n",
    "            stat_zeros.append(segments_zeros)\n",
    "            stat_ones.append(segments_ones)\n",
    "\n",
    "            segments_zeros, segments_ones = split_arr_to_zeros_and_ones_sizes(phantom[:, row_num])\n",
    "            stat_zeros.append(segments_zeros)\n",
    "            stat_ones.append(segments_ones)\n",
    "\n",
    "    stat_ones, stat_zeros = np.concatenate(stat_ones), np.concatenate(stat_zeros)\n",
    "\n",
    "    return stat_zeros, stat_ones \n"
   ]
  },
  {
   "cell_type": "code",
   "execution_count": null,
   "metadata": {},
   "outputs": [],
   "source": [
    "def compare_stats(stats, names_of_stats, num_bins=50):\n",
    "    nrows = 3\n",
    "    ncols = len(stats)\n",
    "    fig, axes = plt.subplots(nrows=nrows, ncols=ncols, figsize=(5*ncols, 5*nrows), constrained_layout=True)\n",
    "\n",
    "    for ax, stat, title in zip(axes[0], stats, names_of_stats):\n",
    "        sns.histplot(stat, bins=num_bins, ax=ax).set_title(title+f\" std: {np.std(stat):.2f}\")\n",
    "\n",
    "        mean = np.mean(stat)\n",
    "        ax.axvline(mean, color='red', linewidth=3, label=f\"mean: {mean:.2f}\")\n",
    "\n",
    "        mode_value = int(mode(stat)[0])\n",
    "        ax.axvline(mode_value, color='purple', linewidth=2, label=f\"mode: {mode_value:.2f}\")\n",
    "        # median = np.median(stat)\n",
    "        # ax.axvline(median, color='green', linewidth=3, label=f\"median: {median:.2f}\")\n",
    "        ax.legend()\n",
    "\n",
    "    for ax, stat, title in zip(axes[1], stats, names_of_stats):\n",
    "        sns.histplot(stat, bins=num_bins, cumulative=True, kde=True, ax=ax).set_title(f'cumulative {title}')\n",
    "\n",
    "    for ax, stat, title in zip(axes[2], stats, names_of_stats):\n",
    "        sns.histplot(stat, \n",
    "                     bins=num_bins,\n",
    "                     cumulative=True,\n",
    "                     kde=True,\n",
    "                     stat=\"density\",\n",
    "                     ax=ax).set_title(f'cumulative density {title}')\n",
    "\n",
    "        percetile = 90\n",
    "        length_percetile = np.percentile(stat, percetile)\n",
    "        ax.axhline(0.9, color='red', linewidth=3, label=f\"{percetile} percetile: x={length_percetile}\")\n",
    "        ax.axvline(length_percetile, color='red', linewidth=3)\n",
    "        ax.legend(loc=4)\n",
    "\n",
    "    return fig"
   ]
  },
  {
   "source": [
    "# 1 phantom"
   ],
   "cell_type": "markdown",
   "metadata": {}
  },
  {
   "cell_type": "code",
   "execution_count": null,
   "metadata": {},
   "outputs": [],
   "source": [
    "shape = [1000, 1000]\n",
    "blobns = 2\n",
    "porosity = 0.3\n",
    "phantom = generator.blobs(shape, porosity= 1 - porosity, blobiness=blobns)\n",
    "\n",
    "fig, ax = plt.subplots(figsize=(10,10))\n",
    "ax.imshow(phantom, cmap='gray')\n",
    "ax.axis(\"off\")"
   ]
  },
  {
   "cell_type": "code",
   "execution_count": null,
   "metadata": {},
   "outputs": [],
   "source": [
    "axis = 1\n",
    "\n",
    "# few random\n",
    "# N = 100\n",
    "# row_numbers = [np.random.randint(phantom.shape[axis]) for _ in range(N)]\n",
    "\n",
    "# all\n",
    "row_numbers = range(phantom.shape[axis])"
   ]
  },
  {
   "cell_type": "code",
   "execution_count": null,
   "metadata": {},
   "outputs": [],
   "source": [
    "fig, axes = plt.subplots(nrows=2, figsize=(5,10))\n",
    "num_row = 300\n",
    "axes[0].imshow(phantom, cmap='gray')\n",
    "axes[0].axis(\"off\")\n",
    "\n",
    "if axis == 0:\n",
    "    axes[1].plot(phantom[num_row])\n",
    "    axes[0].axhline(num_row, color='red', linewidth=3)\n",
    "elif axis == 1:\n",
    "    axes[1].plot(phantom[:, num_row])\n",
    "    axes[0].axvline(num_row, color='red', linewidth=3)\n",
    "\n",
    "axes[1].set_xlim(xmin=0, xmax=len(phantom[num_row]))\n",
    "plt.tight_layout()"
   ]
  },
  {
   "cell_type": "code",
   "execution_count": null,
   "metadata": {
    "tags": []
   },
   "outputs": [],
   "source": [
    "stat_ones, stat_zeros = get_stats(phantom, row_numbers)"
   ]
  },
  {
   "cell_type": "code",
   "execution_count": null,
   "metadata": {},
   "outputs": [],
   "source": [
    "compare_stats(stats=[stat_ones, stat_zeros], names_of_stats=[\"stat_ones\", \"stat_zeros\"], num_bins=50)"
   ]
  },
  {
   "source": [
    "# Several phantoms"
   ],
   "cell_type": "markdown",
   "metadata": {}
  },
  {
   "cell_type": "code",
   "execution_count": null,
   "metadata": {},
   "outputs": [],
   "source": [
    "shape = [1000, 1000]\n",
    "blobnses = [1, 3, 6]\n",
    "porosity = 0.3\n",
    "phantoms = [generator.blobs(shape, porosity= 1 - porosity, blobiness=b) for b in blobnses]"
   ]
  },
  {
   "cell_type": "code",
   "execution_count": null,
   "metadata": {},
   "outputs": [],
   "source": [
    "fig, axes = plt.subplots(ncols=3, figsize=(15,5))\n",
    "\n",
    "for ax, blobns, phantom in zip(axes, blobnses, phantoms):\n",
    "    ax.imshow(phantom, cmap='gray')\n",
    "    ax.set_title(f\"blobiness: {blobns}\")\n",
    "    ax.grid(color='red')\n",
    "\n",
    "plt.tight_layout()"
   ]
  },
  {
   "cell_type": "code",
   "execution_count": null,
   "metadata": {},
   "outputs": [],
   "source": [
    "axis = \"Both\"\n",
    "stats_zeros = [get_stats(phantom, row_numbers, axis=axis)[0] for phantom in phantoms]\n",
    "fig = compare_stats(stats=stats_zeros, names_of_stats=[f\"blobiness {b}\" for b in blobnses], num_bins=50)\n",
    "fig.suptitle(f\"statistics for PORE-lengths; axis={axis}\")\n"
   ]
  },
  {
   "cell_type": "code",
   "execution_count": null,
   "metadata": {},
   "outputs": [],
   "source": [
    "stats_zeros = [get_stats(phantom, row_numbers, axis=axis)[1] for phantom in phantoms]\n",
    "fig = compare_stats(stats=stats_zeros, names_of_stats=[f\"blobiness {b}\" for b in blobnses], num_bins=50)\n",
    "fig.suptitle(\"statistics for MATERIAL-lengths\")"
   ]
  },
  {
   "source": [
    "# Own phantoms"
   ],
   "cell_type": "markdown",
   "metadata": {}
  },
  {
   "cell_type": "code",
   "execution_count": null,
   "metadata": {},
   "outputs": [],
   "source": [
    "import scipy.ndimage as spim\n",
    "from porespy.tools import norm_to_uniform"
   ]
  },
  {
   "cell_type": "code",
   "execution_count": null,
   "metadata": {},
   "outputs": [],
   "source": [
    "def gen_phantom(shape, porosity, blobiness):\n",
    "    shape = np.array(shape)\n",
    "    if np.size(shape) == 1:\n",
    "        shape = np.full((3, ), int(shape))\n",
    "    im = np.random.random(shape)\n",
    "    im = spim.gaussian_filter(im, sigma=blobiness)\n",
    "    im = norm_to_uniform(im, scale=[0, 1])\n",
    "    if porosity:\n",
    "        im = im < porosity\n",
    "    return im"
   ]
  },
  {
   "cell_type": "code",
   "execution_count": null,
   "metadata": {},
   "outputs": [],
   "source": [
    "shape = [1000, 1000]\n",
    "blobnses = [10, 30, 60]\n",
    "porosity = 0.5\n",
    "own_phantoms = [gen_phantom(shape, porosity= 1 - porosity, blobiness=b) for b in blobnses]\n",
    "\n",
    "fig, axes = plt.subplots(ncols=3, figsize=(15,5))\n",
    "\n",
    "for ax, blobns, own_phantom in zip(axes, blobnses, own_phantoms):\n",
    "    ax.imshow(own_phantom, cmap='gray')\n",
    "    ax.set_title(f\"blobiness: {blobns}\")\n",
    "    ax.grid(color='red')\n",
    "\n",
    "plt.tight_layout()"
   ]
  },
  {
   "cell_type": "code",
   "execution_count": null,
   "metadata": {},
   "outputs": [],
   "source": [
    "axis = \"Both\"\n",
    "stats_zeros = [get_stats(own_phantom, row_numbers, axis=axis)[0] for own_phantom in own_phantoms]\n",
    "fig = compare_stats(stats=stats_zeros, names_of_stats=[f\"blobiness {b}\" for b in blobnses], num_bins=50)\n",
    "fig.suptitle(f\"statistics for PORE-lengths; axis={axis}\")\n"
   ]
  },
  {
   "source": [
    "# Trial to find dependecies"
   ],
   "cell_type": "markdown",
   "metadata": {}
  },
  {
   "cell_type": "code",
   "execution_count": null,
   "metadata": {},
   "outputs": [],
   "source": [
    "blobnses = [1, 5, 10, 20, 30, 40, 60]\n",
    "porosities = [0.1, 0.3, 0.5]\n",
    "shape = [1000, 1000]\n",
    "axis = \"Both\"\n",
    "\n",
    "fig, axes = plt.subplots(ncols=len(porosities), nrows=5, figsize=(15, 20), constrained_layout=True)\n",
    "for ax in axes.flatten()[3:]:\n",
    "    ax.set(xlabel='blobines', ylabel='value')\n",
    "axes = np.transpose(axes)\n",
    "\n",
    "for porosity, axes_col in zip(porosities, axes):\n",
    "    own_phantoms = [gen_phantom(shape, porosity= 1 - porosity, blobiness=b) for b in blobnses]\n",
    "    middle_index = len(blobnses)//2\n",
    "    axes_col[0].imshow(own_phantoms[middle_index], cmap=\"gray\")\n",
    "    axes_col[0].set_title(f\"blobiness={blobnses[middle_index]}, porosity={porosity}\")\n",
    "    axes_col[0].grid(color='red')\n",
    "\n",
    "    stats_zeros = [get_stats(own_phantom, row_numbers, axis=axis)[0] for own_phantom in own_phantoms]\n",
    "\n",
    "    means, modes, st_devs, medians= [], [], [], []\n",
    "    for stat_zeros in stats_zeros:\n",
    "        means.append(np.mean(stat_zeros))\n",
    "        medians.append(np.median(stat_zeros))\n",
    "        modes.append(int(mode(stat_zeros)[0]))\n",
    "        st_devs.append(np.std(stat_zeros))\n",
    "\n",
    "    sns.lineplot(x=blobnses, y=means, markers=True, ax=axes_col[1]).set_title(f\"means, porosity={porosity}\")\n",
    "    sns.lineplot(x=blobnses, y=medians, markers=True, ax=axes_col[2]).set_title(f\"medians, porosity={porosity}\")\n",
    "    sns.lineplot(x=blobnses, y=modes, markers=True, ax=axes_col[3]).set_title(f\"modes, porosity={porosity}\")\n",
    "    sns.lineplot(x=blobnses, y=st_devs, markers=True, ax=axes_col[4]).set_title(f\"std, porosity={porosity}\")"
   ]
  },
  {
   "cell_type": "code",
   "execution_count": null,
   "metadata": {},
   "outputs": [],
   "source": [
    "blobnses = [1, 5, 10, 20, 30, 40, 60]\n",
    "porosities = [0.1, 0.3, 0.5]\n",
    "shape = [1000, 1000]\n",
    "sampling = 10\n",
    "axis = \"Both\"\n",
    "df = pd.DataFrame(columns = ['porosity', 'blobns', 'hist_mean'])\n",
    "\n",
    "for _ in range(sampling):\n",
    "    for porosity in porosities:\n",
    "        for blobns in blobnses:\n",
    "            phantom = gen_phantom(shape, porosity= 1 - porosity, blobiness=blobns)\n",
    "            hist_mean = np.mean(get_stats(phantom, row_numbers, axis=axis)[0])\n",
    "            df = df.append({'porosity': porosity, 'blobns': blobns, 'hist_mean': hist_mean}, ignore_index=True)\n"
   ]
  },
  {
   "cell_type": "code",
   "execution_count": null,
   "metadata": {},
   "outputs": [],
   "source": [
    "sample_blobns = blobnses[::3]\n",
    "fig, axes = plt.subplots(ncols=len(sample_blobns), figsize=(15, 5), constrained_layout=True)\n",
    "for ax, b in zip(axes, sample_blobns):\n",
    "    sns.lineplot(data=df[df[\"blobns\"]==b], x=\"porosity\", y=\"hist_mean\", ax=ax).set_title(f\"means, blobines={b}\")"
   ]
  },
  {
   "cell_type": "code",
   "execution_count": null,
   "metadata": {},
   "outputs": [],
   "source": [
    "fig, axes = plt.subplots(ncols=len(porosities), figsize=(15, 5), constrained_layout=True)\n",
    "for ax, p in zip(axes, porosities):\n",
    "    ax.set(xlabel='blobines', ylabel='value')\n",
    "    sns.lineplot(data=df[df[\"porosity\"]==p], x=\"blobns\", y=\"hist_mean\", ax=ax).set_title(f\"means, porosity={p}\")"
   ]
  },
  {
   "source": [
    "# Regression"
   ],
   "cell_type": "markdown",
   "metadata": {}
  },
  {
   "cell_type": "code",
   "execution_count": null,
   "metadata": {},
   "outputs": [],
   "source": [
    "from sklearn import datasets, linear_model\n",
    "from sklearn.metrics import mean_squared_error, r2_score"
   ]
  },
  {
   "cell_type": "code",
   "execution_count": null,
   "metadata": {},
   "outputs": [],
   "source": [
    "df_means = df.groupby([\"porosity\", \"blobns\"]).mean().reset_index()\n",
    "df_means"
   ]
  },
  {
   "cell_type": "code",
   "execution_count": null,
   "metadata": {},
   "outputs": [],
   "source": [
    "porosities = np.unique(df_means[\"porosity\"])\n",
    "porosities"
   ]
  },
  {
   "cell_type": "code",
   "execution_count": null,
   "metadata": {},
   "outputs": [],
   "source": [
    "blobinesses = np.unique(df_means[\"blobns\"]).astype(int)\n",
    "blobinesses"
   ]
  },
  {
   "cell_type": "code",
   "execution_count": null,
   "metadata": {},
   "outputs": [],
   "source": [
    "meshgrid = np.array(np.meshgrid(porosities, blobinesses)).T\n",
    "diabetes_X_train = meshgrid.reshape(-1, meshgrid.shape[-1])\n",
    "diabetes_X_train"
   ]
  },
  {
   "cell_type": "code",
   "execution_count": null,
   "metadata": {},
   "outputs": [],
   "source": [
    "diabetes_Y_train =[float(df_means.loc[(df_means[\"porosity\"]==p) & (df_means[\"blobns\"]==b)][\"hist_mean\"]) for p, b in diabetes_X_train]\n",
    "diabetes_Y_train"
   ]
  },
  {
   "cell_type": "code",
   "execution_count": null,
   "metadata": {},
   "outputs": [],
   "source": [
    "porosity_min, blobiness_min = np.min(diabetes_X_train, axis=0)\n",
    "porosity_max, blobiness_max = np.max(diabetes_X_train, axis=0)\n",
    "X, Y = np.meshgrid([porosity_min, porosity_max], [blobiness_min, blobiness_max])\n",
    "\n",
    "regr = linear_model.LinearRegression()\n",
    "regr.fit(diabetes_X_train, diabetes_Y_train)\n",
    "\n",
    "Z = regr.intercept_ + X*regr.coef_[0] + Y*regr.coef_[1]\n",
    "\n",
    "fig = plt.figure(figsize=(10,10))\n",
    "ax = fig.add_subplot(111, projection='3d')\n",
    "\n",
    "ax.set_xlabel('porosity')\n",
    "ax.set_ylabel('blobiness')\n",
    "ax.set_zlabel('hist mean')\n",
    "\n",
    "ax.plot_surface(X, Y, Z, alpha=0.3)\n",
    "ax.scatter(*np.transpose(diabetes_X_train), diabetes_Y_train, color='red', linewidth=3)\n",
    "\n",
    "plt.show()"
   ]
  },
  {
   "source": [
    "# Regression without mean"
   ],
   "cell_type": "markdown",
   "metadata": {}
  },
  {
   "cell_type": "code",
   "execution_count": null,
   "metadata": {},
   "outputs": [],
   "source": [
    "porosities = np.unique(df[\"porosity\"])\n",
    "porosities"
   ]
  },
  {
   "cell_type": "code",
   "execution_count": null,
   "metadata": {},
   "outputs": [],
   "source": [
    "blobinesses = np.unique(df[\"blobns\"]).astype(int)\n",
    "blobinesses"
   ]
  },
  {
   "cell_type": "code",
   "execution_count": null,
   "metadata": {},
   "outputs": [],
   "source": [
    "meshgrid = np.array(np.meshgrid(porosities, blobinesses)).T\n",
    "diabetes_X_train = meshgrid.reshape(-1, meshgrid.shape[-1])\n",
    "diabetes_X_train"
   ]
  },
  {
   "cell_type": "code",
   "execution_count": null,
   "metadata": {},
   "outputs": [],
   "source": [
    "train_data = []\n",
    "for p, b in diabetes_X_train:\n",
    "    diabetes_Y_train = df.loc[(df[\"porosity\"]==p) & (df[\"blobns\"]==b)][\"hist_mean\"].to_numpy()\n",
    "    train_data += [[p, int(b), hist_mean] for hist_mean in diabetes_Y_train]\n",
    "train_data = np.asarray(train_data).T"
   ]
  },
  {
   "cell_type": "code",
   "execution_count": null,
   "metadata": {},
   "outputs": [],
   "source": [
    "\n",
    "\n",
    "porosity_min, blobiness_min = np.min(train_data[0]), np.min(train_data[1])\n",
    "porosity_max, blobiness_max = np.max(train_data[0]), np.max(train_data[1])\n",
    "\n",
    "p, b = np.meshgrid([porosity_min, porosity_max], [blobiness_min, blobiness_max])\n",
    "\n",
    "regr = linear_model.LinearRegression()\n",
    "regr.fit(train_data[0:-1].T, train_data[-1])\n",
    "\n",
    "hist_mean = regr.intercept_ + p*regr.coef_[0] + b*regr.coef_[1]\n",
    "\n",
    "fig = plt.figure(figsize=(10,10))\n",
    "ax = fig.add_subplot(111, projection='3d')\n",
    "\n",
    "ax.set_xlabel('porosity')\n",
    "ax.set_ylabel('blobiness')\n",
    "ax.set_zlabel('hist mean')\n",
    "\n",
    "ax.plot_surface(p, b, hist_mean, alpha=0.3)\n",
    "ax.scatter(*train_data[0:-1], train_data[-1], color='red', linewidth=3)\n",
    "\n",
    "plt.show()"
   ]
  },
  {
   "source": [
    "# Tests"
   ],
   "cell_type": "markdown",
   "metadata": {}
  },
  {
   "cell_type": "code",
   "execution_count": null,
   "metadata": {},
   "outputs": [],
   "source": [
    "1+2"
   ]
  },
  {
   "cell_type": "code",
   "execution_count": null,
   "metadata": {},
   "outputs": [],
   "source": [
    "blobiness = lambda porosity, hist_mean: (hist_mean - regr.intercept_ - porosity*regr.coef_[0]) / regr.coef_[1]"
   ]
  },
  {
   "cell_type": "code",
   "execution_count": null,
   "metadata": {},
   "outputs": [],
   "source": [
    "fig, ax = plt.subplots(nrows=1, figsize=(5,5))\n",
    "\n",
    "shape = 1000\n",
    "porosity = 0.3\n",
    "blobns = 10\n",
    "phantom = gen_phantom(shape, porosity= 1 - porosity, blobiness=blobns)\n",
    "ax.imshow(phantom, cmap='gray')\n",
    "ax.axis(\"off\")"
   ]
  },
  {
   "cell_type": "code",
   "execution_count": null,
   "metadata": {},
   "outputs": [],
   "source": [
    "stats_zeros = get_stats(own_phantom, row_numbers, axis=axis)[0]\n",
    "hist_mean = np.mean(stat_zeros)"
   ]
  },
  {
   "cell_type": "code",
   "execution_count": null,
   "metadata": {},
   "outputs": [],
   "source": [
    "blobiness(porosity, hist_mean)"
   ]
  }
 ]
}